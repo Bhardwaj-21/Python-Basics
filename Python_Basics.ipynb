{
  "nbformat": 4,
  "nbformat_minor": 0,
  "metadata": {
    "colab": {
      "provenance": []
    },
    "kernelspec": {
      "name": "python3",
      "display_name": "Python 3"
    },
    "language_info": {
      "name": "python"
    }
  },
  "cells": [
    {
      "cell_type": "markdown",
      "source": [
        "# Python Basics\n",
        "1.  What is Python, and why is it popular?\n",
        "\n",
        "  -> Python is a high level interpreted programming language known for it's simplicity, and readibility.\n",
        "\n",
        "  -> It is popular because of its ease of learning, different libraries, and it can be used in wide variety like web development, data analytics etc.\n",
        "\n",
        "2. What is an interpreter in Python?\n",
        "\n",
        "  -> An interpreter in Python is a program that executes Python codes line by line, converting it into machine code at realtime.\n",
        "\n",
        "3. What are pre-defined keywords in Python?\n",
        "\n",
        "  -> Pre-defined keywords in Python are reserved words that have a special meaning and cannot be used as idetifiers.\n",
        "\n",
        "  -> They define the syntax and structure of Python code.\n",
        "\n",
        "  -> Examples - if, else, class, import, return, true, while, for, etc\n",
        "\n",
        "4.  Can keywords be used as variable names?\n",
        "\n",
        "  -> No, Keywords cannot be used as a variable names in Python because they are reserved for specific syntax and functionality.\n",
        "\n",
        "5.  What is mutability in Python?\n",
        "\n",
        "  -> Mutability in Python refers to whether an object's value can be changed after it created. Examples - list, dist, set.\n",
        "\n",
        "6. Why are lists mutable, but tuples are immutable?\n",
        "\n",
        "  -> Lists are mutable because they allow modification, such as adding, removing, or changing elements after creation.\n",
        "\n",
        "  -> Tuples are immutable because their structure is fixed after creation. They do not allow modifications to ensure data integrity and enable their use as dictionary keys.\n",
        "\n",
        "7. What is the difference between “==” and “is” operators in Python?\n",
        "\n",
        "  -> \"==\" (Equality Operator) - Checks if values of two objects are equal.\n",
        "    Example -\n",
        "              a = [1, 2, 3]\n",
        "              b = [1, 2, 3]\n",
        "              print(a == b)  # True (values are the same)\n",
        "\n",
        "  -> \"is\" (identity Operator) - Checks if two variables refers to the same memory location.\n",
        "    Example -\n",
        "              print(a is b)  # False (different objects in memory)\n",
        "\n",
        "8. What are logical operators in Python?\n",
        " -> Logical operators in Python are used to perform boolean logic operations. There are 3 main logical operators:\n",
        "\n",
        "    a. \"and\" - returns true if both conditions are true.\n",
        "        Example - print(True and False)  # False\n",
        "    b. \"or\" - returns true if atleast one conditon is true.\n",
        "        Example - print(True or False)  # True\n",
        "    c. \"not\" - reverses the boolean value.\n",
        "        Example - print(not True)  # False\n",
        "  \n",
        "9.  What is type casting in Python?\n",
        "\n",
        "  -> Type casting in Python is the process of converting a variable from one data type to another.\n",
        "\n",
        "  -> It is of two types; Implicit Typecasting and Explicit Typecasting.\n",
        "\n",
        "10. What is the difference between implicit and explicit type casting?\n",
        "\n",
        "  -> Implicit Typecasting (Automatic Conversion)\n",
        "   \n",
        "   . Python atomatically converts one data type to another when no data loss occurs.\n",
        "\n",
        "   Example -\n",
        "           x = 5  # int\n",
        "           y = 2.5  # float\n",
        "          result = x + y  # int + float → float\n",
        "          print(result)  # 7.5\n",
        "\n",
        "  -> Explicit Typecasting (Manual Conversion)\n",
        "\n",
        "  . The user manually converts one data type to another using functions like int(), float(), etc.\n",
        "\n",
        "  Example -\n",
        "            a = \"10\"\n",
        "            b = int(a)  # Explicitly converting string to int\n",
        "            print(b + 5)  # 15\n",
        "\n",
        "11. What is the purpose of conditional statements in Python?\n",
        "\n",
        "  -> The purpose of conditional statement in Python is to control the flow of execution based on certain conditions.\n",
        "\n",
        "  -> They allow the program to make decisions and execute different blocks of code depending on whether a condition is true of false.\n",
        "\n",
        "  -> The main conditional statements are; \"if\", \"elif\", \"else\".\n",
        "\n",
        "12.  How does the elif statement work?\n",
        "\n",
        "  -> the elif statement in Python is used to check an additional condition if the preceeding if condition is False.\n",
        "\n",
        "  -> It allows you to check multiple conditions sequentially.\n",
        "\n",
        "  -> Example -   \n",
        "          x = 10\n",
        "\n",
        "          if x > 15:\n",
        "            print(\"x is greater than 15\")\n",
        "          elif x > 5:\n",
        "             print(\"x is greater than 5 but less than or equal to 15\")\n",
        "          else:\n",
        "             print(\"x is 5 or less\")\n",
        "\n",
        "  Output - x is greater than 5 but less than or equal to 15\n",
        "\n",
        "\n",
        "13. What is the difference between for and while loops?\n",
        "\n",
        "  -> \"for\" loop:\n",
        "   \n",
        "   . It is used to iterate over a sequence (list, tuple, string or range)\n",
        "   . The number of iterations is known beforehand or determined by the sequence length.\n",
        "   . Example -\n",
        "              for i in range(5):\n",
        "               print(i)\n",
        "      Output - This will print numbers 0 to 4 because range(5) generates a sequence of numbers from 0 to 4.\n",
        "\n",
        "  -> \"while\" loop:\n",
        "    \n",
        "  . It repeats a block of code as long as a condtion is True.\n",
        "  . The number of iterations is not necessarily known in advance and depends on the condition is being satisfied.\n",
        "  . Example -\n",
        "              i = 0\n",
        "              while i < 5:\n",
        "                print(i)\n",
        "                i += 1\n",
        "\n",
        "    Output - This will print numbers 0 to 4, as long as i < 5 is True.\n",
        "\n",
        "14. Describe a scenario where a while loop is more suitable than a for loop.\n",
        "\n",
        "  -> a \"while\" loop is more suitable than a \"for\" loop when the number of iterations is not known in advance and the loop should continue based on a condition that could change during execution.\n",
        "\n",
        "  Example - Suppose you're building a program where the user needs to enter a valid password. The loop should continue asking the user for input until they provide a password that meets certain criteria (e.g., at least 8 characters long). Since the number of attempts isn't predetermined, a while loop is a natural choice.\n",
        "\n",
        "  \n",
        "            password = \"\"\n",
        "            while len(password) < 8:\n",
        "              password = input(\"Enter a password (at least 8 characters): \")\n",
        "\n",
        "            print(\"Password accepted!\")\n",
        "\n",
        "\n",
        "\n",
        "\n",
        "\n"
      ],
      "metadata": {
        "id": "o9MZE6NGWuVr"
      }
    },
    {
      "cell_type": "code",
      "source": [
        "# Practical Questions\n",
        "\n",
        "1. # Write a Python program to print \"Hello, World!\n",
        "print(\"Hello, World!\")\n"
      ],
      "metadata": {
        "colab": {
          "base_uri": "https://localhost:8080/"
        },
        "id": "3Q5bXUN6imuN",
        "outputId": "ddd23d66-99fd-4008-cddc-1a27808cd9f5"
      },
      "execution_count": 19,
      "outputs": [
        {
          "output_type": "stream",
          "name": "stdout",
          "text": [
            "Hello, World!\n"
          ]
        }
      ]
    },
    {
      "cell_type": "code",
      "source": [
        "2. # Write a Python program that displays your name and age\n",
        "name = \"Rishabh\"\n",
        "age = 25\n",
        "print(\"Name:\", name)\n",
        "print(\"Age:\", age"
      ],
      "metadata": {
        "id": "yp4E4B0nl0Be"
      },
      "execution_count": null,
      "outputs": []
    },
    {
      "cell_type": "code",
      "source": [
        "3. # Write code to print all the pre-defined keywords in Python using the keyword library\n",
        "import keyword\n",
        "print(keyword.kwlist)"
      ],
      "metadata": {
        "id": "q1etSjzLl_C8"
      },
      "execution_count": null,
      "outputs": []
    },
    {
      "cell_type": "code",
      "source": [
        "4. # Write a program that checks if a given word is a Python keyword.\n",
        "import keyword\n",
        "\n",
        "word = input(\"Enter a word: \")\n",
        "\n",
        "if keyword.iskeyword(word):\n",
        "    print(f\"{word} is a Python keyword.\")\n",
        "else:\n",
        "    print(f\"{word} is not a Python keyword.\")"
      ],
      "metadata": {
        "id": "XkSXzMgUmDR-"
      },
      "execution_count": null,
      "outputs": []
    },
    {
      "cell_type": "code",
      "source": [
        "5. # Create a list and tuple in Python, and demonstrate how attempting to change an element works differently for each.\n",
        "# Creating a list (mutable)\n",
        "my_list = [1, 2, 3]\n",
        "print(\"Original List:\", my_list)\n",
        "\n",
        "# Modifying an element in the list\n",
        "my_list[1] = 20\n",
        "print(\"Modified List:\", my_list)  # Successful change\n",
        "\n",
        "# Creating a tuple (immutable)\n",
        "my_tuple = (1, 2, 3)\n",
        "print(\"\\nOriginal Tuple:\", my_tuple)\n",
        "\n",
        "# Attempting to modify an element in the tuple\n",
        "try:\n",
        "    my_tuple[1] = 20  # This will cause an error\n",
        "except TypeError as e:\n",
        "    print(\"Error:\", e)\n"
      ],
      "metadata": {
        "id": "Hi0Ee00ZmGq8"
      },
      "execution_count": null,
      "outputs": []
    },
    {
      "cell_type": "code",
      "source": [
        "6 #  Write a function to demonstrate the behavior of mutable and immutable arguments.\n"
      ],
      "metadata": {
        "id": "1InuJv9CmN5L"
      },
      "execution_count": null,
      "outputs": []
    },
    {
      "cell_type": "code",
      "source": [
        "7. #Write a function to demonstrate the behavior of mutable and immutable arguments."
      ],
      "metadata": {
        "id": "PhMAzczumpa4"
      },
      "execution_count": null,
      "outputs": []
    },
    {
      "cell_type": "code",
      "source": [
        "8 # Write a program to demonstrate the use of logical operators.\n",
        "# Define variables\n",
        "a = True\n",
        "b = False\n",
        "\n",
        "print(\"a and b:\", a and b)  # False\n",
        "print(\"a or b:\", a or b)  # True\n",
        "print(\"not a:\", not a)  # False\n",
        "print(\"not b:\", not b)  # True"
      ],
      "metadata": {
        "colab": {
          "base_uri": "https://localhost:8080/"
        },
        "id": "U260BApfmv11",
        "outputId": "b05d108d-f9f4-40b9-fc23-59e40ecdb7b8"
      },
      "execution_count": 20,
      "outputs": [
        {
          "output_type": "stream",
          "name": "stdout",
          "text": [
            "a and b: False\n",
            "a or b: True\n",
            "not a: False\n",
            "not b: True\n"
          ]
        }
      ]
    },
    {
      "cell_type": "code",
      "source": [
        "9. #  Write a Python program to convert user input from string to integer, float, and boolean types.\n",
        "# Get user input as a string\n",
        "user_input = input(\"Enter a value: \")\n",
        "\n",
        "# Convert to integer\n",
        "try:\n",
        "    int_value = int(user_input)\n",
        "    print(\"Integer:\", int_value)\n",
        "except ValueError:\n",
        "    print(\"Cannot convert to Integer\")\n",
        "\n",
        "# Convert to float\n",
        "try:\n",
        "    float_value = float(user_input)\n",
        "    print(\"Float:\", float_value)\n",
        "except ValueError:\n",
        "    print(\"Cannot convert to Float\")\n",
        "\n",
        "# Convert to boolean\n",
        "bool_value = bool(user_input)\n",
        "print(\"Boolean:\", bool_value)"
      ],
      "metadata": {
        "colab": {
          "base_uri": "https://localhost:8080/"
        },
        "id": "mWxb_p-5nBv_",
        "outputId": "9c1c76a4-f716-48b6-ef20-449e27ad1f4c"
      },
      "execution_count": 21,
      "outputs": [
        {
          "output_type": "stream",
          "name": "stdout",
          "text": [
            "Enter a value: 10\n",
            "Integer: 10\n",
            "Float: 10.0\n",
            "Boolean: True\n"
          ]
        }
      ]
    },
    {
      "cell_type": "code",
      "source": [
        "10. #Write code to demonstrate type casting with list elements.\n",
        "# List with mixed types as strings\n",
        "str_list = [\"10\", \"20\", \"30.5\", \"True\"]\n",
        "\n",
        "int_list = [int(x) for x in str_list[:2]]\n",
        "float_list = [float(x) for x in str_list[2:3]]\n",
        "bool_list = [bool(x) for x in str_list[3:]]\n",
        "\n",
        "print(\"Original List:\", str_list)\n",
        "print(\"Integer List:\", int_list)\n",
        "print(\"Float List:\", float_list)\n",
        "print(\"Boolean List:\", bool_list)"
      ],
      "metadata": {
        "colab": {
          "base_uri": "https://localhost:8080/"
        },
        "id": "gffL-oI7nh9c",
        "outputId": "b9d973a3-a18a-4b68-b586-8089ff9c7eb4"
      },
      "execution_count": 22,
      "outputs": [
        {
          "output_type": "stream",
          "name": "stdout",
          "text": [
            "Original List: ['10', '20', '30.5', 'True']\n",
            "Integer List: [10, 20]\n",
            "Float List: [30.5]\n",
            "Boolean List: [True]\n"
          ]
        }
      ]
    },
    {
      "cell_type": "code",
      "source": [
        "11. # Write a program that checks if a number is positive, negative, or zero.\n",
        "\n",
        "num = float(input(\"Enter a number: \"))\n",
        "\n",
        "if num > 0:\n",
        "    print(\"The number is Positive.\")\n",
        "elif num < 0:\n",
        "    print(\"The number is Negative.\")\n",
        "else:\n",
        "    print(\"The number is Zero.\")"
      ],
      "metadata": {
        "id": "eCyQ4UJon2C4"
      },
      "execution_count": null,
      "outputs": []
    },
    {
      "cell_type": "code",
      "source": [
        "12. # Write a for loop to print numbers from 1 to 100\n",
        "for i in range(1, 101):\n",
        "    print(i, end=\" \")"
      ],
      "metadata": {
        "id": "HlqecJ5moEYk"
      },
      "execution_count": null,
      "outputs": []
    },
    {
      "cell_type": "code",
      "source": [
        "13 # Write a Python program to find the sum of all even numbers between 1 and 50.\n",
        "sum_even = 0\n",
        "for num in range(2, 51, 2):\n",
        "    sum_even += num\n",
        "\n",
        "print(\"The sum of even numbers between 1 and 50 is:\", sum_even)"
      ],
      "metadata": {
        "id": "KVc4mkp3oauv"
      },
      "execution_count": null,
      "outputs": []
    },
    {
      "cell_type": "code",
      "source": [
        "14. # Write a program to reverse a string using a while loop.\n",
        "\n",
        "text = input(\"Enter a string: \")\n",
        "\n",
        "reversed_text = \"\"\n",
        "index = len(text) - 1\n",
        "\n",
        "while index >= 0:\n",
        "    reversed_text += text[index]\n",
        "    index -= 1\n",
        "\n",
        "print(\"Reversed string:\", reversed_text)\n"
      ],
      "metadata": {
        "colab": {
          "base_uri": "https://localhost:8080/"
        },
        "id": "xjxyPga3ogaB",
        "outputId": "a1218ace-4a25-467f-fcd8-bcbe13486abe"
      },
      "execution_count": 23,
      "outputs": [
        {
          "output_type": "stream",
          "name": "stdout",
          "text": [
            "Enter a string: python\n",
            "Reversed string: nohtyp\n"
          ]
        }
      ]
    },
    {
      "cell_type": "code",
      "source": [
        "15. # Write a Python program to calculate the factorial of a number provided by the user using a while loop.\n",
        "\n",
        "num = int(input(\"Enter a number: \"))\n",
        "\n",
        "factorial = 1\n",
        "i = 1\n",
        "\n",
        "while i <= num:\n",
        "    factorial *= i\n",
        "    i += 1\n",
        "\n",
        "print(f\"The factorial of {num} is {factorial}\")"
      ],
      "metadata": {
        "id": "ogMtumFLo4uV"
      },
      "execution_count": null,
      "outputs": []
    }
  ]
}